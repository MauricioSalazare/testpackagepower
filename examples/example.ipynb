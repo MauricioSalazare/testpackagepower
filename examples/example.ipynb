{
  "cells": [
    {
      "cell_type": "code",
      "execution_count": 4,
      "id": "1bb3f66c-41c1-4787-b848-c27876fdb775",
      "metadata": {
        "id": "1bb3f66c-41c1-4787-b848-c27876fdb775",
        "outputId": "f14d7596-f2f6-4ca7-960f-30ddd6c106ac",
        "colab": {
          "base_uri": "https://localhost:8080/"
        }
      },
      "outputs": [
        {
          "output_type": "stream",
          "name": "stdout",
          "text": [
            "Looking in indexes: https://pypi.org/simple, https://us-python.pkg.dev/colab-wheels/public/simple/, https://testpypi.python.org/pypi\n",
            "Collecting testpackagepower\n",
            "  Downloading https://test-files.pythonhosted.org/packages/df/b4/f00ee508a79410cf8b7ab63e179f2ffe81163aa733ecb70b092f664f6995/testpackagepower-0.0.6-py3-none-any.whl (3.6 kB)\n",
            "Requirement already satisfied: pandas in /usr/local/lib/python3.7/dist-packages (from testpackagepower) (1.3.5)\n",
            "Requirement already satisfied: numpy in /usr/local/lib/python3.7/dist-packages (from testpackagepower) (1.21.6)\n",
            "Requirement already satisfied: pytz>=2017.3 in /usr/local/lib/python3.7/dist-packages (from pandas->testpackagepower) (2022.1)\n",
            "Requirement already satisfied: python-dateutil>=2.7.3 in /usr/local/lib/python3.7/dist-packages (from pandas->testpackagepower) (2.8.2)\n",
            "Requirement already satisfied: six>=1.5 in /usr/local/lib/python3.7/dist-packages (from python-dateutil>=2.7.3->pandas->testpackagepower) (1.15.0)\n",
            "Installing collected packages: testpackagepower\n",
            "Successfully installed testpackagepower-0.0.6\n"
          ]
        }
      ],
      "source": [
        "!pip3 install --extra-index-url https://testpypi.python.org/pypi testpackagepower"
      ]
    },
    {
      "cell_type": "code",
      "source": [
        "from testpackagepower import compute_function"
      ],
      "metadata": {
        "id": "2TiTop0gs9wQ"
      },
      "id": "2TiTop0gs9wQ",
      "execution_count": 5,
      "outputs": []
    },
    {
      "cell_type": "markdown",
      "source": [
        "This is a change"
      ],
      "metadata": {
        "id": "mH9RqCBQs_NT"
      },
      "id": "mH9RqCBQs_NT"
    },
    {
      "cell_type": "code",
      "execution_count": 6,
      "id": "3451d1a3-f40e-4e97-a7a3-650da3b16b5c",
      "metadata": {
        "id": "3451d1a3-f40e-4e97-a7a3-650da3b16b5c",
        "outputId": "7c22e51c-2168-4546-d543-86dc3dff68da",
        "colab": {
          "base_uri": "https://localhost:8080/"
        }
      },
      "outputs": [
        {
          "output_type": "execute_result",
          "data": {
            "text/plain": [
              "52"
            ]
          },
          "metadata": {},
          "execution_count": 6
        }
      ],
      "source": [
        "compute_function(1,1)"
      ]
    }
  ],
  "metadata": {
    "kernelspec": {
      "display_name": "Python 3 (ipykernel)",
      "language": "python",
      "name": "python3"
    },
    "language_info": {
      "codemirror_mode": {
        "name": "ipython",
        "version": 3
      },
      "file_extension": ".py",
      "mimetype": "text/x-python",
      "name": "python",
      "nbconvert_exporter": "python",
      "pygments_lexer": "ipython3",
      "version": "3.10.5"
    },
    "colab": {
      "name": "example.ipynb",
      "provenance": []
    }
  },
  "nbformat": 4,
  "nbformat_minor": 5
}