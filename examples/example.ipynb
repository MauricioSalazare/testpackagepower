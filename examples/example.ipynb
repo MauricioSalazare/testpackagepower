{
 "cells": [
  {
   "cell_type": "markdown",
   "id": "d2f58c77-6b09-4287-9763-1ca75efa8ef7",
   "metadata": {
    "colab": {
     "base_uri": "https://localhost:8080/"
    },
    "id": "1bb3f66c-41c1-4787-b848-c27876fdb775",
    "outputId": "f14d7596-f2f6-4ca7-960f-30ddd6c106ac"
   },
   "source": [
    "!pip3 install --extra-index-url https://testpypi.python.org/pypi testpackagepower"
   ]
  },
  {
   "cell_type": "code",
   "execution_count": 2,
   "id": "2TiTop0gs9wQ",
   "metadata": {
    "id": "2TiTop0gs9wQ"
   },
   "outputs": [],
   "source": [
    "from testpackagepower import compute_function"
   ]
  },
  {
   "cell_type": "markdown",
   "id": "mH9RqCBQs_NT",
   "metadata": {
    "id": "mH9RqCBQs_NT"
   },
   "source": [
    "Exit save change"
   ]
  },
  {
   "cell_type": "code",
   "execution_count": 3,
   "id": "3451d1a3-f40e-4e97-a7a3-650da3b16b5c",
   "metadata": {
    "colab": {
     "base_uri": "https://localhost:8080/"
    },
    "id": "3451d1a3-f40e-4e97-a7a3-650da3b16b5c",
    "outputId": "7c22e51c-2168-4546-d543-86dc3dff68da"
   },
   "outputs": [
    {
     "data": {
      "text/plain": [
       "552"
      ]
     },
     "execution_count": 3,
     "metadata": {},
     "output_type": "execute_result"
    }
   ],
   "source": [
    "compute_function(1,1)"
   ]
  },
  {
   "cell_type": "code",
   "execution_count": 4,
   "id": "394e65da-7462-401e-94ed-43fe0d0313ba",
   "metadata": {},
   "outputs": [
    {
     "data": {
      "text/plain": [
       "562"
      ]
     },
     "execution_count": 4,
     "metadata": {},
     "output_type": "execute_result"
    }
   ],
   "source": [
    "compute_function(2,2)"
   ]
  }
 ],
 "metadata": {
  "colab": {
   "name": "example.ipynb",
   "provenance": []
  },
  "kernelspec": {
   "display_name": "Python 3 (ipykernel)",
   "language": "python",
   "name": "python3"
  },
  "language_info": {
   "codemirror_mode": {
    "name": "ipython",
    "version": 3
   },
   "file_extension": ".py",
   "mimetype": "text/x-python",
   "name": "python",
   "nbconvert_exporter": "python",
   "pygments_lexer": "ipython3",
   "version": "3.10.5"
  }
 },
 "nbformat": 4,
 "nbformat_minor": 5
}