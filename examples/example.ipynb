{
  "cells": [
    {
      "cell_type": "markdown",
      "metadata": {
        "id": "view-in-github",
        "colab_type": "text"
      },
      "source": [
        "<a href=\"https://colab.research.google.com/github/MauricioSalazare/testpackagepower/blob/master/examples/example.ipynb\" target=\"_parent\"><img src=\"https://colab.research.google.com/assets/colab-badge.svg\" alt=\"Open In Colab\"/></a>"
      ]
    },
    {
      "cell_type": "markdown",
      "id": "d2f58c77-6b09-4287-9763-1ca75efa8ef7",
      "metadata": {
        "id": "d2f58c77-6b09-4287-9763-1ca75efa8ef7",
        "outputId": "f14d7596-f2f6-4ca7-960f-30ddd6c106ac"
      },
      "source": [
        "!pip3 install --extra-index-url https://testpypi.python.org/pypi testpackagepower"
      ]
    },
    {
      "cell_type": "code",
      "execution_count": 9,
      "id": "2TiTop0gs9wQ",
      "metadata": {
        "id": "2TiTop0gs9wQ"
      },
      "outputs": [],
      "source": [
        "from testpackagepower import compute_function"
      ]
    },
    {
      "cell_type": "markdown",
      "id": "mH9RqCBQs_NT",
      "metadata": {
        "id": "mH9RqCBQs_NT"
      },
      "source": [
        "Exit save change"
      ]
    },
    {
      "cell_type": "code",
      "execution_count": 10,
      "id": "3451d1a3-f40e-4e97-a7a3-650da3b16b5c",
      "metadata": {
        "colab": {
          "base_uri": "https://localhost:8080/"
        },
        "id": "3451d1a3-f40e-4e97-a7a3-650da3b16b5c",
        "outputId": "5d6dc1d3-1831-4519-e72f-d1293416a52b"
      },
      "outputs": [
        {
          "output_type": "execute_result",
          "data": {
            "text/plain": [
              "52"
            ]
          },
          "metadata": {},
          "execution_count": 10
        }
      ],
      "source": [
        "compute_function(1,1)"
      ]
    },
    {
      "cell_type": "code",
      "execution_count": 12,
      "id": "394e65da-7462-401e-94ed-43fe0d0313ba",
      "metadata": {
        "id": "394e65da-7462-401e-94ed-43fe0d0313ba",
        "outputId": "17decfa5-9d0d-4a97-8405-a562de49a8b9",
        "colab": {
          "base_uri": "https://localhost:8080/"
        }
      },
      "outputs": [
        {
          "output_type": "execute_result",
          "data": {
            "text/plain": [
              "62"
            ]
          },
          "metadata": {},
          "execution_count": 12
        }
      ],
      "source": [
        "compute_function(2,2)"
      ]
    },
    {
      "cell_type": "code",
      "source": [
        "compute_function(4,4)"
      ],
      "metadata": {
        "id": "6CmbMcLnxE6B",
        "outputId": "0519c951-88b4-4fee-807a-20428c567816",
        "colab": {
          "base_uri": "https://localhost:8080/"
        }
      },
      "id": "6CmbMcLnxE6B",
      "execution_count": 13,
      "outputs": [
        {
          "output_type": "execute_result",
          "data": {
            "text/plain": [
              "130"
            ]
          },
          "metadata": {},
          "execution_count": 13
        }
      ]
    },
    {
      "cell_type": "code",
      "source": [
        ""
      ],
      "metadata": {
        "id": "QVfI_8LTxF-E"
      },
      "id": "QVfI_8LTxF-E",
      "execution_count": null,
      "outputs": []
    }
  ],
  "metadata": {
    "colab": {
      "name": "example.ipynb",
      "provenance": [],
      "include_colab_link": true
    },
    "kernelspec": {
      "display_name": "Python 3 (ipykernel)",
      "language": "python",
      "name": "python3"
    },
    "language_info": {
      "codemirror_mode": {
        "name": "ipython",
        "version": 3
      },
      "file_extension": ".py",
      "mimetype": "text/x-python",
      "name": "python",
      "nbconvert_exporter": "python",
      "pygments_lexer": "ipython3",
      "version": "3.10.5"
    }
  },
  "nbformat": 4,
  "nbformat_minor": 5
}