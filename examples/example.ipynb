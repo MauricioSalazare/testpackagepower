{
 "cells": [
  {
   "cell_type": "code",
   "execution_count": 1,
   "id": "1bb3f66c-41c1-4787-b848-c27876fdb775",
   "metadata": {},
   "outputs": [],
   "source": [
    "from testpackagepower import compute_function"
   ]
  },
  {
   "cell_type": "code",
   "execution_count": 2,
   "id": "3451d1a3-f40e-4e97-a7a3-650da3b16b5c",
   "metadata": {},
   "outputs": [
    {
     "data": {
      "text/plain": [
       "552"
      ]
     },
     "execution_count": 2,
     "metadata": {},
     "output_type": "execute_result"
    }
   ],
   "source": [
    "compute_function(1,1)"
   ]
  }
 ],
 "metadata": {
  "kernelspec": {
   "display_name": "Python 3 (ipykernel)",
   "language": "python",
   "name": "python3"
  },
  "language_info": {
   "codemirror_mode": {
    "name": "ipython",
    "version": 3
   },
   "file_extension": ".py",
   "mimetype": "text/x-python",
   "name": "python",
   "nbconvert_exporter": "python",
   "pygments_lexer": "ipython3",
   "version": "3.10.5"
  }
 },
 "nbformat": 4,
 "nbformat_minor": 5
}
